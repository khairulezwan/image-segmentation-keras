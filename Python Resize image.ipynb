{
 "cells": [
  {
   "cell_type": "code",
   "execution_count": 1,
   "metadata": {},
   "outputs": [],
   "source": [
    "from PIL import Image\n",
    "from natsort import natsorted\n",
    "\n",
    "import glob"
   ]
  },
  {
   "cell_type": "code",
   "execution_count": 2,
   "metadata": {},
   "outputs": [
    {
     "name": "stdout",
     "output_type": "stream",
     "text": [
      "PNG\n",
      "Size : (1280, 960)\n",
      "image mode : RGB\n"
     ]
    }
   ],
   "source": [
    "img_path = '/home/ahbear/Desktop/Dataset/Dataset/Input/wound1.png'\n",
    "im = Image.open(img_path)\n",
    "\n",
    "print('{}'.format(im.format))\n",
    "print('Size : {}'.format(im.size))\n",
    "print('image mode : {}'.format(im.mode))\n",
    "im.show()"
   ]
  },
  {
   "cell_type": "code",
   "execution_count": null,
   "metadata": {},
   "outputs": [],
   "source": [
    "# empty list\n",
    "image_list =[]\n",
    "resized_image = []img_path = '/home/ahbear/Desktop/Dataset/Dataset/Input/wound1.png'\n",
    "im = Image.open(img_path)\n",
    "\n",
    "print('{}'.format(im.format))\n",
    "print('Size : {}'.format(im.size))\n",
    "print('image mode : {}'.format(im.mode))\n",
    "im.show()"
   ]
  },
  {
   "cell_type": "code",
   "execution_count": null,
   "metadata": {},
   "outputs": [],
   "source": [
    "# append image to list \n",
    "for fileName in natsorted (glob.glob('/home/ahbear/Desktop/Dataset/Dataset/Ground_T/*.png')) :\n",
    "    print(fileName)\n",
    "    img = Image.open(fileName)\n",
    "    image_list.append(img)"
   ]
  },
  {
   "cell_type": "code",
   "execution_count": null,
   "metadata": {},
   "outputs": [],
   "source": [
    "# append resize image\n",
    "for image in image_list:\n",
    "#     image.show()\n",
    "    image = image.resize((224,224))\n",
    "    resized_image.append(image)"
   ]
  },
  {
   "cell_type": "code",
   "execution_count": null,
   "metadata": {},
   "outputs": [],
   "source": [
    "# save resized image to new folder\n",
    "for (i, new) in enumerate(resized_image):\n",
    "    new.save('{}{}{}'.format('/home/ahbear/Desktop/Input-224/wound', i+1,'.png'))"
   ]
  },
  {
   "cell_type": "code",
   "execution_count": null,
   "metadata": {},
   "outputs": [],
   "source": []
  }
 ],
 "metadata": {
  "kernelspec": {
   "display_name": "Python 3",
   "language": "python",
   "name": "python3"
  },
  "language_info": {
   "codemirror_mode": {
    "name": "ipython",
    "version": 3
   },
   "file_extension": ".py",
   "mimetype": "text/x-python",
   "name": "python",
   "nbconvert_exporter": "python",
   "pygments_lexer": "ipython3",
   "version": "3.7.1"
  }
 },
 "nbformat": 4,
 "nbformat_minor": 2
}
